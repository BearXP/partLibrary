{
 "cells": [
  {
   "cell_type": "code",
   "execution_count": 15,
   "metadata": {},
   "outputs": [],
   "source": [
    "from db import Database\n",
    "import pandas as pd\n",
    "\n",
    "db = Database()\n",
    "df1 = db._getDb()\n",
    "\n",
    "df2 = pd.read_csv(\"database copy.csv\", na_filter=False)"
   ]
  },
  {
   "cell_type": "code",
   "execution_count": 16,
   "metadata": {},
   "outputs": [
    {
     "name": "stdout",
     "output_type": "stream",
     "text": [
      "     id                                     name   dataType status timestamp\n",
      "46  E25         AC/DC Current Clamp Fluke i30 /1  equipment                 \n",
      "47  E26           Multimeter DigiTech QM1529 / 6  equipment                 \n",
      "0   E26           Multimeter DigiTech QM1529 / 6  equipment     U0          \n",
      "1   E27              Current Clamp - New one / 1  equipment                 \n",
      "2   E28  Oscilloscope Keysight $$$ - New one / 1  equipment                 \n"
     ]
    }
   ],
   "source": [
    "df = pd.concat([df1, df2])\n",
    "print(df.tail(5))\n"
   ]
  },
  {
   "cell_type": "code",
   "execution_count": 17,
   "metadata": {},
   "outputs": [
    {
     "name": "stdout",
     "output_type": "stream",
     "text": [
      "     id                                          name   dataType status  \\\n",
      "45  E24  Multimeter AC Current Clamp Tenma 72-7222 /1  equipment          \n",
      "46  E25              AC/DC Current Clamp Fluke i30 /1  equipment          \n",
      "47  E26                Multimeter DigiTech QM1529 / 6  equipment          \n",
      "1   E27                   Current Clamp - New one / 1  equipment          \n",
      "2   E28       Oscilloscope Keysight $$$ - New one / 1  equipment          \n",
      "\n",
      "   timestamp  \n",
      "45            \n",
      "46            \n",
      "47            \n",
      "1             \n",
      "2             \n"
     ]
    }
   ],
   "source": [
    "df = df[~df.id.duplicated(keep='first')]\n",
    "print(df.tail(5))"
   ]
  },
  {
   "cell_type": "code",
   "execution_count": null,
   "metadata": {},
   "outputs": [],
   "source": []
  }
 ],
 "metadata": {
  "kernelspec": {
   "display_name": "venv",
   "language": "python",
   "name": "python3"
  },
  "language_info": {
   "codemirror_mode": {
    "name": "ipython",
    "version": 3
   },
   "file_extension": ".py",
   "mimetype": "text/x-python",
   "name": "python",
   "nbconvert_exporter": "python",
   "pygments_lexer": "ipython3",
   "version": "3.10.2"
  },
  "orig_nbformat": 4,
  "vscode": {
   "interpreter": {
    "hash": "b60a74637e98295d1265beda7a3f58c6e64cdf4a0b321d4f3c8bfcfa02dec891"
   }
  }
 },
 "nbformat": 4,
 "nbformat_minor": 2
}
